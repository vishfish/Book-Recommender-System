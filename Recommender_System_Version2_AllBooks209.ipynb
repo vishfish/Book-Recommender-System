{
 "cells": [
  {
   "cell_type": "code",
   "execution_count": null,
   "metadata": {
    "collapsed": true,
    "deletable": true,
    "editable": true
   },
   "outputs": [],
   "source": [
    "## Importing required libraries\n",
    "import pandas as pd\n",
    "import numpy as np\n",
    "import math"
   ]
  },
  {
   "cell_type": "code",
   "execution_count": null,
   "metadata": {
    "collapsed": false,
    "deletable": true,
    "editable": true
   },
   "outputs": [],
   "source": [
    "## Reading the original data\n",
    "data = pd.read_csv(\"Final_Metrix.csv\",index_col=\"USER_ID\")\n",
    "data.index.name = None\n",
    "data"
   ]
  },
  {
   "cell_type": "code",
   "execution_count": null,
   "metadata": {
    "collapsed": true,
    "deletable": true,
    "editable": true
   },
   "outputs": [],
   "source": [
    "## Function to create cosine similarity\n",
    "def similar(x,y):\n",
    "    m=[]\n",
    "    n=[]\n",
    "    for i,j in zip(x,y):\n",
    "        if(i>0 and j>0):\n",
    "            m.append(i)\n",
    "            n.append(j)\n",
    "    numerator = np.dot(m,n)\n",
    "    denom1=np.sqrt(sum(np.square(m)))\n",
    "    denom2=np.sqrt(sum(np.square(n)))\n",
    "    final_similarity = numerator/(denom1*denom2)\n",
    "    return(final_similarity)"
   ]
  },
  {
   "cell_type": "code",
   "execution_count": null,
   "metadata": {
    "collapsed": false,
    "deletable": true,
    "editable": true
   },
   "outputs": [],
   "source": [
    "## Creating cosine similarity for each combination\n",
    "matsimdata = []\n",
    "for i in data:\n",
    "    for j in data:\n",
    "        similarmat = similar(data[i],data[j])\n",
    "        matsimdata.append(similarmat)\n",
    "matsimdata"
   ]
  },
  {
   "cell_type": "code",
   "execution_count": null,
   "metadata": {
    "collapsed": false,
    "deletable": true,
    "editable": true
   },
   "outputs": [],
   "source": [
    "## Creating the matrix for the above list\n",
    "npmat = np.matrix(matsimdata)\n",
    "npmat"
   ]
  },
  {
   "cell_type": "code",
   "execution_count": null,
   "metadata": {
    "collapsed": false,
    "deletable": true,
    "editable": true
   },
   "outputs": [],
   "source": [
    "## Converting the matrix to dataframe\n",
    "npsimmat1 = npmat.reshape(data.columns.shape[0],data.columns.shape[0])\n",
    "final_sim_matrix = pd.DataFrame(npsimmat1,index=data.columns,columns=data.columns)"
   ]
  },
  {
   "cell_type": "code",
   "execution_count": null,
   "metadata": {
    "collapsed": false,
    "deletable": true,
    "editable": true
   },
   "outputs": [],
   "source": [
    "## Final Cosine Similarity Matrix\n",
    "final_sim_matrix"
   ]
  },
  {
   "cell_type": "code",
   "execution_count": null,
   "metadata": {
    "collapsed": false,
    "deletable": true,
    "editable": true
   },
   "outputs": [],
   "source": [
    "## Filling the original data with zeros\n",
    "datax = data\n",
    "datax = datax.fillna(0)\n",
    "datax.head()"
   ]
  },
  {
   "cell_type": "code",
   "execution_count": null,
   "metadata": {
    "collapsed": true,
    "deletable": true,
    "editable": true
   },
   "outputs": [],
   "source": [
    "## Converting the final similarity matrix dataframe to matirx format\n",
    "mat_final_sim_mat = final_sim_matrix.as_matrix()"
   ]
  },
  {
   "cell_type": "code",
   "execution_count": null,
   "metadata": {
    "collapsed": false,
    "deletable": true,
    "editable": true
   },
   "outputs": [],
   "source": [
    "## Converting the dataframe to matrix\n",
    "maty = datax.as_matrix()"
   ]
  },
  {
   "cell_type": "code",
   "execution_count": null,
   "metadata": {
    "collapsed": true,
    "deletable": true,
    "editable": true
   },
   "outputs": [],
   "source": [
    "## Function to predict the missing ratings\n",
    "def predict_rating(x,y):\n",
    "    simm = mat_final_sim_mat[y]\n",
    "    multi = []\n",
    "    deno = 0\n",
    "    multi = x * simm\n",
    "    j = 0\n",
    "    for i in x:\n",
    "        if i != 0:\n",
    "            deno += simm[j]\n",
    "        j += 1\n",
    "    return(sum(multi)/deno)"
   ]
  },
  {
   "cell_type": "code",
   "execution_count": null,
   "metadata": {
    "collapsed": false,
    "deletable": true,
    "editable": true
   },
   "outputs": [],
   "source": [
    "## Creating Predicted Rating Matrix\n",
    "main = []\n",
    "l = 0\n",
    "for i in maty:\n",
    "    blank = []\n",
    "    k=0\n",
    "    for j in i:\n",
    "        if j==0:\n",
    "            blank.append(predict_rating(i,k))\n",
    "        else:\n",
    "            blank.append(maty[l,k])\n",
    "        k += 1\n",
    "    l += 1\n",
    "    main.append(blank)\n",
    "main"
   ]
  },
  {
   "cell_type": "code",
   "execution_count": null,
   "metadata": {
    "collapsed": false,
    "deletable": true,
    "editable": true
   },
   "outputs": [],
   "source": [
    "## Converting the predicted rating matrix to dataframe\n",
    "predicted_rating_matrix = pd.DataFrame(main,index=datax.index,columns=datax.columns)"
   ]
  },
  {
   "cell_type": "code",
   "execution_count": null,
   "metadata": {
    "collapsed": false,
    "deletable": true,
    "editable": true
   },
   "outputs": [],
   "source": [
    "## Final Preidcted Rating Matrix\n",
    "predicted_rating_matrix"
   ]
  },
  {
   "cell_type": "code",
   "execution_count": null,
   "metadata": {
    "collapsed": false,
    "deletable": true,
    "editable": true
   },
   "outputs": [],
   "source": [
    "null_data = predicted_rating_matrix[predicted_rating_matrix.isnull().any(axis=1)]"
   ]
  },
  {
   "cell_type": "code",
   "execution_count": null,
   "metadata": {
    "collapsed": false,
    "deletable": true,
    "editable": true
   },
   "outputs": [],
   "source": [
    "null_data"
   ]
  },
  {
   "cell_type": "code",
   "execution_count": null,
   "metadata": {
    "collapsed": false,
    "deletable": true,
    "editable": true
   },
   "outputs": [],
   "source": []
  },
  {
   "cell_type": "code",
   "execution_count": null,
   "metadata": {
    "collapsed": false,
    "deletable": true,
    "editable": true
   },
   "outputs": [],
   "source": [
    "predicted_rating_matrix.head()"
   ]
  },
  {
   "cell_type": "code",
   "execution_count": null,
   "metadata": {
    "collapsed": false,
    "deletable": true,
    "editable": true
   },
   "outputs": [],
   "source": [
    "recommnd = []\n",
    "l=0\n",
    "for i in predicted_rating_matrix.index:\n",
    "    k=0\n",
    "    temp = []\n",
    "    for j in predicted_rating_matrix.loc[i,:]:\n",
    "        if datax.iloc[l,k] == 0 and j>7:\n",
    "            temp = (i, datax.columns[k],j)\n",
    "            recommnd.append(temp)\n",
    "        k += 1\n",
    "    l += 1"
   ]
  },
  {
   "cell_type": "code",
   "execution_count": null,
   "metadata": {
    "collapsed": false,
    "deletable": true,
    "editable": true
   },
   "outputs": [],
   "source": [
    "recommnd"
   ]
  },
  {
   "cell_type": "code",
   "execution_count": null,
   "metadata": {
    "collapsed": false,
    "deletable": true,
    "editable": true
   },
   "outputs": [],
   "source": [
    "Final_Recommendation = pd.DataFrame(recommnd,columns=[\"UserID\",\"Recommendation\",\"Score\"])\n",
    "Final_Recommendation = Final_Recommendation.set_index(\"UserID\")\n",
    "Final_Recommendation.index.name=None\n",
    "Final_Recommendation"
   ]
  },
  {
   "cell_type": "code",
   "execution_count": null,
   "metadata": {
    "collapsed": false,
    "deletable": true,
    "editable": true
   },
   "outputs": [],
   "source": [
    "idno = int(input(\"Enter user ID : \"))\n",
    "if idno in Final_Recommendation.index:\n",
    "    print(Final_Recommendation.loc[idno])\n",
    "else:\n",
    "    print(\"Invalid User\")"
   ]
  },
  {
   "cell_type": "code",
   "execution_count": null,
   "metadata": {
    "collapsed": false,
    "deletable": true,
    "editable": true
   },
   "outputs": [],
   "source": [
    "Final_Recommendation.index.value_counts()"
   ]
  },
  {
   "cell_type": "markdown",
   "metadata": {
    "deletable": true,
    "editable": true
   },
   "source": [
    "# Evaluation of System - MAE (Mean Absolute Error)"
   ]
  },
  {
   "cell_type": "code",
   "execution_count": null,
   "metadata": {
    "collapsed": true,
    "deletable": true,
    "editable": true
   },
   "outputs": [],
   "source": [
    "data_org = data"
   ]
  },
  {
   "cell_type": "code",
   "execution_count": null,
   "metadata": {
    "collapsed": false,
    "deletable": true,
    "editable": true
   },
   "outputs": [],
   "source": [
    "data_org_mean = []\n",
    "for i in data_org.index:\n",
    "    data_org_mean.append(np.nanmean(data_org.loc[i,:]))\n",
    "np.nanmean(data_org_mean)\n",
    "data_org_mean"
   ]
  },
  {
   "cell_type": "code",
   "execution_count": null,
   "metadata": {
    "collapsed": false,
    "deletable": true,
    "editable": true
   },
   "outputs": [],
   "source": [
    "data_pred = predicted_rating_matrix"
   ]
  },
  {
   "cell_type": "code",
   "execution_count": null,
   "metadata": {
    "collapsed": false,
    "deletable": true,
    "editable": true
   },
   "outputs": [],
   "source": [
    "np.mean(data_org.mean(axis=1))"
   ]
  },
  {
   "cell_type": "code",
   "execution_count": null,
   "metadata": {
    "collapsed": false,
    "deletable": true,
    "editable": true
   },
   "outputs": [],
   "source": [
    "np.mean(data_pred.mean(axis=1))"
   ]
  }
 ],
 "metadata": {
  "anaconda-cloud": {},
  "kernelspec": {
   "display_name": "Python [conda root]",
   "language": "python",
   "name": "conda-root-py"
  },
  "language_info": {
   "codemirror_mode": {
    "name": "ipython",
    "version": 3
   },
   "file_extension": ".py",
   "mimetype": "text/x-python",
   "name": "python",
   "nbconvert_exporter": "python",
   "pygments_lexer": "ipython3",
   "version": "3.5.2"
  }
 },
 "nbformat": 4,
 "nbformat_minor": 1
}
